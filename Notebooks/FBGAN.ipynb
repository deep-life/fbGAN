{
  "nbformat": 4,
  "nbformat_minor": 0,
  "metadata": {
    "accelerator": "GPU",
    "colab": {
      "name": "FBGAN.ipynb",
      "provenance": [],
      "collapsed_sections": [],
      "machine_shape": "hm"
    },
    "kernelspec": {
      "display_name": "Python 3",
      "name": "python3"
    }
  },
  "cells": [
    {
      "cell_type": "markdown",
      "metadata": {
        "id": "3omuWKQ3gA9x"
      },
      "source": [
        "# **FB GAN**"
      ]
    },
    {
      "cell_type": "markdown",
      "metadata": {
        "id": "INPTSJzCbUj4"
      },
      "source": [
        "To run this notebook:\n",
        "\n",
        "1. Create `fbGAN` folder in the same folder where this notebook is stored and specify SRC_PATH\n",
        "\n",
        "\n",
        "2. Copy the files from git folder with the same subdirectories (e.g. utils/...)\n",
        "(upload the whole folder from github)\n",
        "\n",
        "3. Change paths in globals.py and in the cell below\n",
        "\n",
        "4. Import modules \n",
        "\n",
        "\n"
      ]
    },
    {
      "cell_type": "markdown",
      "metadata": {
        "id": "qUI4JDMTq2JV"
      },
      "source": [
        "#### Import modules"
      ]
    },
    {
      "cell_type": "markdown",
      "metadata": {
        "id": "1bs4z6jExM8y"
      },
      "source": [
        "Note: if the files inside fbGAN are changed and uploaded but there is no change do: Runtime > Factory reset runtime"
      ]
    },
    {
      "cell_type": "code",
      "metadata": {
        "id": "Ryx6LSX_xBr_"
      },
      "source": [
        "# Note: the path should be in the following format : '/%s/MyDrive/...\n",
        "\n",
        "#Indicate where your directory is located\n",
        "#Used for logging also\n",
        "ROOT_PATH = '/content/gdrive/My Drive/fbGAN/'"
      ],
      "execution_count": 1,
      "outputs": []
    },
    {
      "cell_type": "code",
      "metadata": {
        "colab": {
          "base_uri": "https://localhost:8080/"
        },
        "id": "RKlScqcNhGCp",
        "outputId": "99b8dbee-ecfc-474c-e4c5-e7d333f226af"
      },
      "source": [
        "import tensorflow as tf\n",
        "import sys\n",
        "import os\n",
        "\n",
        "# Import FB-GAN Modules\n",
        "from google.colab import drive\n",
        "drive.mount('/content/gdrive', force_remount=True)\n",
        "sys.path.append(ROOT_PATH)\n",
        "\n",
        "from utils.protein_utilities import *\n",
        "from utils.data_utilities import *\n",
        "from globals import *\n",
        "\n",
        "import models\n",
        "from gan import GAN\n",
        "from fbgan import FB_GAN"
      ],
      "execution_count": 2,
      "outputs": [
        {
          "output_type": "stream",
          "text": [
            "Mounted at /content/gdrive\n"
          ],
          "name": "stdout"
        }
      ]
    },
    {
      "cell_type": "markdown",
      "metadata": {
        "id": "SB0PMRRvd8hB"
      },
      "source": [
        "**DON'T FORGET TO UPDATE YOUR PATHS IN GLOBALS.PY**"
      ]
    },
    {
      "cell_type": "code",
      "metadata": {
        "id": "rMYHwh063mQL"
      },
      "source": [
        "# Select a path where your data are stores\n",
        "PATH_DATA = ROOT_PATH+ '2018-06-06-ss.cleaned.csv'\n",
        "\n",
        "# Select paths to the saved weights of the gan and feedback\n",
        "PATH_G = ROOT_PATH + 'Weights/Generator/weights_generator_243'\n",
        "PATH_D = ROOT_PATH + 'Weights/Discriminator/weights_discriminator_243'\n",
        "PATH_FB = ROOT_PATH + 'Weights/Feedback/'"
      ],
      "execution_count": 3,
      "outputs": []
    },
    {
      "cell_type": "markdown",
      "metadata": {
        "id": "GijL9S6TlM9d"
      },
      "source": [
        "#### Load Data"
      ]
    },
    {
      "cell_type": "code",
      "metadata": {
        "id": "e-IvfQEKh2l1"
      },
      "source": [
        "inputs = prepare_dataset(PATH_DATA)"
      ],
      "execution_count": 4,
      "outputs": []
    },
    {
      "cell_type": "markdown",
      "metadata": {
        "id": "3HZa8sTR3ypt"
      },
      "source": [
        "#### Train GAN"
      ]
    },
    {
      "cell_type": "code",
      "metadata": {
        "id": "cJ-hg9SW31_q"
      },
      "source": [
        "# gan = GAN()\n",
        "# gan.train(inputs = inputs, epochs = 5, step_log = 10)"
      ],
      "execution_count": 5,
      "outputs": []
    },
    {
      "cell_type": "markdown",
      "metadata": {
        "id": "H-cGNC_WIQMz"
      },
      "source": [
        "##### 3 GAN-FBNet"
      ]
    },
    {
      "cell_type": "code",
      "metadata": {
        "id": "nsY-dFrorpyI"
      },
      "source": [
        "ganfb = FB_GAN(generator_path = PATH_G, discriminator_path = PATH_D, \n",
        "               fbnet_path = PATH_FB, features = ['C','H','E'], multip_factor = 50, log_id='trial')\n",
        "ganfb.train(inputs, step_log = 1, epochs = 1, steps_per_epoch = 3)"
      ],
      "execution_count": null,
      "outputs": []
    }
  ]
}