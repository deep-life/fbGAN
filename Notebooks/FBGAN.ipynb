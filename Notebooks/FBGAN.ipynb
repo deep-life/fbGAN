{
  "nbformat": 4,
  "nbformat_minor": 0,
  "metadata": {
    "accelerator": "GPU",
    "colab": {
      "name": "FBGAN.ipynb",
      "provenance": [],
      "collapsed_sections": [],
      "toc_visible": true,
      "machine_shape": "hm"
    },
    "kernelspec": {
      "display_name": "Python 3",
      "name": "python3"
    }
  },
  "cells": [
    {
      "cell_type": "markdown",
      "metadata": {
        "id": "3omuWKQ3gA9x"
      },
      "source": [
        "# **FB GAN**"
      ]
    },
    {
      "cell_type": "markdown",
      "metadata": {
        "id": "INPTSJzCbUj4"
      },
      "source": [
        "1. Create `fbGAN` folder in the same folder where this notebook is stored and specify SRC_PATH\n",
        "\n",
        "\n",
        "2. Copy the files from git folder with the same subdirectories (e.g. utils/...)\n",
        "(upload the whole folder from github)\n",
        "\n",
        "3. Change paths in globals.py and in the cell below\n",
        "\n",
        "4. Import modules \n"
      ]
    },
    {
      "cell_type": "markdown",
      "metadata": {
        "id": "qUI4JDMTq2JV"
      },
      "source": [
        "##### 1.Import modules"
      ]
    },
    {
      "cell_type": "markdown",
      "metadata": {
        "id": "1bs4z6jExM8y"
      },
      "source": [
        "Note: if the files inside fbGAN are changed and uploaded but there is no change do: Runtime > Factory reset runtime"
      ]
    },
    {
      "cell_type": "code",
      "metadata": {
        "id": "Ryx6LSX_xBr_"
      },
      "source": [
        "SRC_PATH = '/%s/MyDrive/Colab Notebooks/FB-GAN_496/fbGAN'"
      ],
      "execution_count": 7,
      "outputs": []
    },
    {
      "cell_type": "code",
      "metadata": {
        "colab": {
          "base_uri": "https://localhost:8080/"
        },
        "id": "RKlScqcNhGCp",
        "outputId": "b5e1ba2a-d8f5-4303-9df3-d52f6012b836"
      },
      "source": [
        "import tensorflow as tf\n",
        "import sys\n",
        "import os\n",
        "\n",
        "# Import FB-GAN Modules\n",
        "from google.colab import drive\n",
        "mount_point = \"drive\"\n",
        "drive.mount('/%s/'%mount_point, force_remount=True)\n",
        "\n",
        "mount_src = SRC_PATH%mount_point\n",
        "sys.path.append(mount_src)\n",
        "\n",
        "from utils.protein_utilities import *\n",
        "from utils.data_utilities import *\n",
        "from globals import *\n",
        "\n",
        "import models\n",
        "from gan import GAN\n",
        "from fbgan import FB_GAN"
      ],
      "execution_count": 3,
      "outputs": [
        {
          "output_type": "stream",
          "text": [
            "Mounted at /drive/\n"
          ],
          "name": "stdout"
        }
      ]
    },
    {
      "cell_type": "markdown",
      "metadata": {
        "id": "SB0PMRRvd8hB"
      },
      "source": [
        "**DON'T FORGET TO UPDATE YOUR PATHS IN GLOBALS.PY**"
      ]
    },
    {
      "cell_type": "code",
      "metadata": {
        "id": "rMYHwh063mQL"
      },
      "source": [
        "# Select a path where your data are stores\n",
        "PATH_DATA = '/drive/MyDrive/Colab Notebooks/FB-GAN_496/data/2018-06-06-ss.cleaned.csv'\n",
        "\n",
        "# Select paths to the saved weights of the gan and feedback\n",
        "PATH_GAN = '/drive/MyDrive/Colab Notebooks/FB-GAN_496/weights/gan'\n",
        "PATH_G = os.path.join(PATH_GAN, 'G243')\n",
        "PATH_D = os.path.join(PATH_GAN, 'D243')\n",
        "\n",
        "PATH_FB = '/drive/MyDrive/Colab Notebooks/FB-GAN_496/weights/feedback'"
      ],
      "execution_count": 4,
      "outputs": []
    },
    {
      "cell_type": "markdown",
      "metadata": {
        "id": "GijL9S6TlM9d"
      },
      "source": [
        "##### 2.Load Data"
      ]
    },
    {
      "cell_type": "code",
      "metadata": {
        "id": "e-IvfQEKh2l1"
      },
      "source": [
        "inputs = prepare_dataset(PATH_DATA)"
      ],
      "execution_count": 5,
      "outputs": []
    },
    {
      "cell_type": "markdown",
      "metadata": {
        "id": "H-cGNC_WIQMz"
      },
      "source": [
        "##### 3 GAN-FBNet"
      ]
    },
    {
      "cell_type": "code",
      "metadata": {
        "id": "nsY-dFrorpyI"
      },
      "source": [
        "ganfb = FB_GAN(generator_path = PATH_G, discriminator_path = PATH_D, fbnet_path = PATH_FB, features = ['C','H','E'], multip_factor = 50)"
      ],
      "execution_count": 6,
      "outputs": []
    },
    {
      "cell_type": "code",
      "metadata": {
        "id": "SOvdfXfQige5"
      },
      "source": [
        "ganfb.train(inputs, step_log = 20, epochs = 10, steps_per_epoch = 100)"
      ],
      "execution_count": null,
      "outputs": []
    }
  ]
}